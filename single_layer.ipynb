{
 "cells": [
  {
   "cell_type": "markdown",
   "metadata": {},
   "source": [
    "Single-Layer Effects of OD Demand\n",
    "==============\n",
    "\n",
    "Argues the following claim: the organized, partially-optimized demand structure of transportation networks (given by OD data), rather than edge weights, tend to dominate single-layer global behavior, such as travel times and congestion.\n",
    "\n",
    "- **Methods:**\n",
    "    - Computation of congested edge weights using ITA + BPR\n",
    "- **Figs:**   \n",
    "    - Shortest path distributions -- plots and summary stats\n",
    "    - Betweenness distributions \n"
   ]
  },
  {
   "cell_type": "code",
   "execution_count": 1,
   "metadata": {
    "collapsed": false
   },
   "outputs": [
    {
     "name": "stderr",
     "output_type": "stream",
     "text": [
      ":0: FutureWarning: IPython widgets are experimental and may change in the future.\n"
     ]
    }
   ],
   "source": [
    "% matplotlib inline\n",
    "\n",
    "# homebrewed modules\n",
    "from metro import multiplex as mx\n",
    "from metro import utility       # for manipulating multiplex\n",
    "from metro import analysis      # analytical functions\n",
    "from metro import viz           # for bubble_plot()\n",
    "from metro import assignment    # for reading and manipulating OD data\n",
    "from metro import ita\n",
    "\n",
    "# Other modules\n",
    "import networkx as nx\n",
    "import random\n",
    "import matplotlib.pyplot as plt\n",
    "import seaborn as sns\n",
    "from matplotlib import pylab\n",
    "import numpy as np\n",
    "import pandas as pd\n",
    "from IPython.display import display, HTML\n",
    "import warnings \n",
    "import itertools\n",
    "import math\n",
    "from matplotlib import cm\n",
    "import fiona\n",
    "from shapely.geometry import MultiPolygon, Point, shape\n",
    "from descartes import PolygonPatch\n",
    "from matplotlib.collections import PatchCollection\n"
   ]
  },
  {
   "cell_type": "code",
   "execution_count": 2,
   "metadata": {
    "collapsed": true
   },
   "outputs": [],
   "source": [
    "warnings.filterwarnings('ignore') # don't display warnings when executing commands\n",
    "sns.set_style(\"white\") # nicer plots\n",
    "pylab.rcParams['savefig.dpi'] = 100 # change to 300 for final publication figs"
   ]
  },
  {
   "cell_type": "code",
   "execution_count": 3,
   "metadata": {
    "collapsed": false
   },
   "outputs": [
    {
     "name": "stdout",
     "output_type": "stream",
     "text": [
      "OD: loaded\n",
      "\n",
      "layer           \tnodes \tedges\n",
      "----------------------------------------\n",
      "streets          \t10728 \t21508\n",
      "taz--streets     \t0 \t8486\n",
      "taz              \t4243 \t0\n"
     ]
    }
   ],
   "source": [
    "m = mx.read_multi(nodes_file_name = '3_throughput/mx_flow_nodes.txt', \n",
    "                      edges_file_name = '3_throughput/mx_flow_edges.txt')\n",
    "\n",
    "\n",
    "for layer in ['metro', 'metro--streets']:\n",
    "    m.remove_layer(layer)\n",
    "    \n",
    "m.read_od(layer = 'taz', # keys are in this layer\n",
    "          key = 'taz', # this is the key attribute\n",
    "          od_file = '1_data/taz_od/0_1.txt', # here's where the file lives\n",
    "          sep = ' ') # this is what separates entries\n",
    "\n",
    "m.summary()"
   ]
  },
  {
   "cell_type": "code",
   "execution_count": 4,
   "metadata": {
    "collapsed": true
   },
   "outputs": [],
   "source": [
    "# Certain analyses in this worksheet are very processor intensive. \n",
    "# You have the option of only running them on a subset of the nodes in the graph. \n",
    "# To do this, set a value for `n_nodes` below. \n",
    "# To run full computations, choose `n_nodes = None`.\n",
    "\n",
    "n_nodes = None"
   ]
  },
  {
   "cell_type": "markdown",
   "metadata": {},
   "source": [
    "# Weighted and Unweighted Shortest Paths"
   ]
  },
  {
   "cell_type": "code",
   "execution_count": 5,
   "metadata": {
    "collapsed": false
   },
   "outputs": [],
   "source": [
    "g, od = m.to_igraph()"
   ]
  },
  {
   "cell_type": "code",
   "execution_count": 6,
   "metadata": {
    "collapsed": false
   },
   "outputs": [],
   "source": [
    "weights = ['congested_time_m_100', 'free_flow_time_m', 'uniform_time_m', 'dist_km'] # define weights we'll use\n",
    "nodes = np.array([v.index for v in g.vs if g.vs[v.index]['layer'] == 'streets']) # nodes on which to compute\n",
    "if n_nodes: # optional sampling\n",
    "    nodes = np.random.choice(nodes, size = n_nodes, replace = False) "
   ]
  },
  {
   "cell_type": "code",
   "execution_count": 7,
   "metadata": {
    "collapsed": false
   },
   "outputs": [],
   "source": [
    "# Now we'll compute shortest paths under each of the edge weights and collect them \n",
    "# into a dataframe for easy visualization. \n",
    "\n",
    "# main computation\n",
    "d = {weight : analysis.path_lengths_igraph(g, nodes, weight, mode = 'array') for weight in weights}\n",
    "\n",
    "# collect into df\n",
    "uniform_demand = pd.DataFrame(d)\n",
    "\n",
    "# reorder the columns (just for aesthetics)\n",
    "uniform_demand = uniform_demand[weights]\n",
    "\n",
    "# filter out paths between unreachable nodes\n",
    "for weight in weights:\n",
    "    uniform_demand = uniform_demand[uniform_demand[weight] != np.inf]"
   ]
  },
  {
   "cell_type": "code",
   "execution_count": 8,
   "metadata": {
    "collapsed": true
   },
   "outputs": [],
   "source": [
    "congested = pd.read_csv('3_throughput/shortest_congested_time_m_100.csv')\n",
    "free = pd.read_csv('3_throughput/shortest_free_flow_time_m.csv')\n",
    "constant = pd.read_csv('3_throughput/shortest_uniform_time_m.csv')"
   ]
  },
  {
   "cell_type": "code",
   "execution_count": null,
   "metadata": {
    "collapsed": false
   },
   "outputs": [
    {
     "data": {
      "text/plain": [
       "22.08729573883674"
      ]
     },
     "execution_count": 9,
     "metadata": {},
     "output_type": "execute_result"
    }
   ],
   "source": [
    "np.average(constant.base_cost, weights = constant.flow)"
   ]
  },
  {
   "cell_type": "code",
   "execution_count": null,
   "metadata": {
    "collapsed": false
   },
   "outputs": [],
   "source": [
    "current_palette = sns.color_palette()\n",
    "\n",
    "fig = plt.figure(figsize = (12, 4))\n",
    "\n",
    "edge_weights = {'congested_time_m_100' : 'congested',\n",
    "                'free_flow_time_m' : 'free flow', \n",
    "                'uniform_time_m' : 'constant'}\n",
    "\n",
    "dfs = {'congested' : congested,\n",
    "      'free flow' : free,\n",
    "      'constant' : constant}\n",
    "\n",
    "ax1 = fig.add_subplot(121)\n",
    "ax2 = fig.add_subplot(122)\n",
    "\n",
    "i = 0\n",
    "for w in edge_weights:\n",
    "    sns.kdeplot(uniform_demand[w], \n",
    "                     label = edge_weights[w] + ' -- uniform', \n",
    "                     ls = '--',\n",
    "                     ax = ax1)\n",
    "    \n",
    "    viz.weighted_hist(ax = ax1, \n",
    "                      measure = dfs[edge_weights[w]]['base_cost'], \n",
    "                      weights = dfs[edge_weights[w]]['flow'], \n",
    "                      label = edge_weights[w] + ' -- observed',  \n",
    "                      color = current_palette[i])\n",
    "    \n",
    "    sns.kdeplot(analysis.standardize(uniform_demand[w]), \n",
    "                     label = edge_weights[w] + ' -- uniform', \n",
    "                     ls = '--',\n",
    "                     ax = ax2)\n",
    "    \n",
    "    viz.weighted_hist(ax = ax2, \n",
    "                      measure = dfs[edge_weights[w]]['base_cost'], \n",
    "                      weights = dfs[edge_weights[w]]['flow'], \n",
    "                      label = edge_weights[w] + ' -- observed',  \n",
    "                      standardized = True,\n",
    "                      color = current_palette[i])\n",
    "    i += 1\n",
    "\n",
    "ax1.legend()\n",
    "ax2.legend()\n",
    "\n",
    "ax1.set(xlim = (0, 100), \n",
    "    xlabel = 'time (m)', \n",
    "    ylabel = 'density', \n",
    "    title = 'Shortest paths und constant and observed ODs')\n",
    "\n",
    "ax2.set(xlim = (-3, 5), \n",
    "        xlabel = 'z-score (standard deviations from the mean)', \n",
    "        title = 'Uniform demand, standardized')\n",
    "\n",
    "sns.despine()"
   ]
  },
  {
   "cell_type": "code",
   "execution_count": null,
   "metadata": {
    "collapsed": false
   },
   "outputs": [],
   "source": [
    "print '__SUMMARY TABLE__'\n",
    "print '{0: <30}'.format('UNIFORM DEMAND') + 'MEAN'\n",
    "for w in edge_weights:\n",
    "    print '{0: <30}'.format(' ' + w) + str(round(uniform_demand[w].mean(), 1))\n",
    "\n",
    "print 'OD DEMAND'\n",
    "for w in edge_weights:\n",
    "    df = dfs[edge_weights[w]]\n",
    "    print '{0: <30}'.format(' ' + w) + str(round(np.average(df['base_cost'], weights = df['flow']),1))\n"
   ]
  },
  {
   "cell_type": "markdown",
   "metadata": {},
   "source": [
    "# Weighted and unweighted distance between nodes"
   ]
  },
  {
   "cell_type": "markdown",
   "metadata": {},
   "source": [
    "### Weighted"
   ]
  },
  {
   "cell_type": "code",
   "execution_count": null,
   "metadata": {
    "collapsed": false
   },
   "outputs": [],
   "source": [
    "df = pd.read_csv('3_throughput/shortest_dist_km.csv')\n",
    "np.average(df.dist_km, weights = df.flow)"
   ]
  },
  {
   "cell_type": "markdown",
   "metadata": {},
   "source": [
    "### Uniform"
   ]
  },
  {
   "cell_type": "code",
   "execution_count": null,
   "metadata": {
    "collapsed": false
   },
   "outputs": [],
   "source": [
    "uniform_demand.mean()['dist_km']"
   ]
  },
  {
   "cell_type": "code",
   "execution_count": null,
   "metadata": {
    "collapsed": false
   },
   "outputs": [],
   "source": [
    "from metro import viz\n",
    "fig = plt.figure(figsize = (5,5))\n",
    "ax = fig.add_subplot(111)\n",
    "\n",
    "viz.flow_plot(m, 'flow_1', ax)"
   ]
  },
  {
   "cell_type": "markdown",
   "metadata": {},
   "source": [
    "# Scrap work"
   ]
  },
  {
   "cell_type": "markdown",
   "metadata": {},
   "source": [
    "## Distance mean"
   ]
  },
  {
   "cell_type": "code",
   "execution_count": null,
   "metadata": {
    "collapsed": false
   },
   "outputs": [],
   "source": [
    "df = pd.read_csv('3_throughput/shortest_congested_time_m_100.csv')"
   ]
  },
  {
   "cell_type": "code",
   "execution_count": null,
   "metadata": {
    "collapsed": false
   },
   "outputs": [],
   "source": [
    "df.flow.sum()"
   ]
  },
  {
   "cell_type": "code",
   "execution_count": null,
   "metadata": {
    "collapsed": false
   },
   "outputs": [],
   "source": [
    "dg = df[df.gamma > 0]\n",
    "sns.jointplot(dg.gamma * dg.dist_km, dg.gradient, alpha = .05)"
   ]
  },
  {
   "cell_type": "code",
   "execution_count": null,
   "metadata": {
    "collapsed": true
   },
   "outputs": [],
   "source": [
    "df['bins'] = pd.cut(df.gamma, 100)"
   ]
  },
  {
   "cell_type": "code",
   "execution_count": null,
   "metadata": {
    "collapsed": false
   },
   "outputs": [],
   "source": [
    "df.head()"
   ]
  },
  {
   "cell_type": "code",
   "execution_count": null,
   "metadata": {
    "collapsed": false
   },
   "outputs": [],
   "source": [
    "binned = df.groupby('bins').mean()\n",
    "binned['speed'] = binned.dist_km / binned.congested_time_m"
   ]
  },
  {
   "cell_type": "code",
   "execution_count": null,
   "metadata": {
    "collapsed": false
   },
   "outputs": [],
   "source": [
    "binned.head()"
   ]
  },
  {
   "cell_type": "code",
   "execution_count": null,
   "metadata": {
    "collapsed": false
   },
   "outputs": [],
   "source": [
    "sns.jointplot(dg.dist_km, dg.congested_time_m, alpha = .05)"
   ]
  },
  {
   "cell_type": "code",
   "execution_count": null,
   "metadata": {
    "collapsed": false
   },
   "outputs": [],
   "source": [
    "dg.describe()"
   ]
  },
  {
   "cell_type": "markdown",
   "metadata": {},
   "source": [
    "Hypothesis: some of these are crazy because they go through a few, very specific, high-congestion edges. This would explain both the few hudge congested travel times and the existence of banding. "
   ]
  },
  {
   "cell_type": "code",
   "execution_count": null,
   "metadata": {
    "collapsed": true
   },
   "outputs": [],
   "source": [
    "dg.flow.sum()"
   ]
  },
  {
   "cell_type": "code",
   "execution_count": null,
   "metadata": {
    "collapsed": true
   },
   "outputs": [],
   "source": []
  }
 ],
 "metadata": {
  "kernelspec": {
   "display_name": "Python 2",
   "language": "python",
   "name": "python2"
  },
  "language_info": {
   "codemirror_mode": {
    "name": "ipython",
    "version": 2
   },
   "file_extension": ".py",
   "mimetype": "text/x-python",
   "name": "python",
   "nbconvert_exporter": "python",
   "pygments_lexer": "ipython2",
   "version": "2.7.5+"
  }
 },
 "nbformat": 4,
 "nbformat_minor": 0
}
