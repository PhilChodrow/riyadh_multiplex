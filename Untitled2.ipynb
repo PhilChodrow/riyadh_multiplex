{
 "cells": [
  {
   "cell_type": "code",
   "execution_count": 5,
   "metadata": {
    "collapsed": false
   },
   "outputs": [],
   "source": [
    "% matplotlib inline\n",
    "from shapely.geometry import *\n",
    "import fiona\n",
    "import pandas as pd\n",
    "import networkx as nx\n",
    "import numpy as np\n",
    "import matplotlib.pyplot as plt"
   ]
  },
  {
   "cell_type": "code",
   "execution_count": 8,
   "metadata": {
    "collapsed": true
   },
   "outputs": [],
   "source": [
    "pols = fiona.open('1_data/taz/taz_shp/riyadh_taz.shp')"
   ]
  },
  {
   "cell_type": "code",
   "execution_count": 9,
   "metadata": {
    "collapsed": false
   },
   "outputs": [],
   "source": [
    "df = pd.DataFrame([pol['properties'] for pol in pols])"
   ]
  },
  {
   "cell_type": "code",
   "execution_count": 10,
   "metadata": {
    "collapsed": false
   },
   "outputs": [
    {
     "data": {
      "text/html": [
       "<div>\n",
       "<table border=\"1\" class=\"dataframe\">\n",
       "  <thead>\n",
       "    <tr style=\"text-align: right;\">\n",
       "      <th></th>\n",
       "      <th>DiMeter</th>\n",
       "      <th>TAZ</th>\n",
       "      <th>dist_id</th>\n",
       "      <th>f_nonsaudi</th>\n",
       "      <th>f_saudi</th>\n",
       "      <th>m_nonsaudi</th>\n",
       "      <th>m_saudi</th>\n",
       "      <th>size_group</th>\n",
       "      <th>sq_km</th>\n",
       "      <th>tt_nonsaud</th>\n",
       "      <th>tt_pop</th>\n",
       "      <th>tt_saudi</th>\n",
       "    </tr>\n",
       "  </thead>\n",
       "  <tbody>\n",
       "    <tr>\n",
       "      <th>0</th>\n",
       "      <td>1836.821151</td>\n",
       "      <td>700</td>\n",
       "      <td>NaN</td>\n",
       "      <td>25</td>\n",
       "      <td>69</td>\n",
       "      <td>29</td>\n",
       "      <td>69</td>\n",
       "      <td>NaN</td>\n",
       "      <td>2.649870</td>\n",
       "      <td>54</td>\n",
       "      <td>192</td>\n",
       "      <td>138</td>\n",
       "    </tr>\n",
       "    <tr>\n",
       "      <th>1</th>\n",
       "      <td>1661.455853</td>\n",
       "      <td>631</td>\n",
       "      <td>0</td>\n",
       "      <td>7</td>\n",
       "      <td>8</td>\n",
       "      <td>10</td>\n",
       "      <td>8</td>\n",
       "      <td>0</td>\n",
       "      <td>2.168046</td>\n",
       "      <td>17</td>\n",
       "      <td>33</td>\n",
       "      <td>16</td>\n",
       "    </tr>\n",
       "    <tr>\n",
       "      <th>2</th>\n",
       "      <td>3104.840282</td>\n",
       "      <td>4</td>\n",
       "      <td>NaN</td>\n",
       "      <td>106</td>\n",
       "      <td>1160</td>\n",
       "      <td>2427</td>\n",
       "      <td>1696</td>\n",
       "      <td>NaN</td>\n",
       "      <td>7.571282</td>\n",
       "      <td>2533</td>\n",
       "      <td>5389</td>\n",
       "      <td>2856</td>\n",
       "    </tr>\n",
       "    <tr>\n",
       "      <th>3</th>\n",
       "      <td>2277.530553</td>\n",
       "      <td>634</td>\n",
       "      <td>151</td>\n",
       "      <td>1127</td>\n",
       "      <td>1379</td>\n",
       "      <td>1377</td>\n",
       "      <td>1762</td>\n",
       "      <td>NaN</td>\n",
       "      <td>4.073984</td>\n",
       "      <td>2504</td>\n",
       "      <td>5645</td>\n",
       "      <td>3141</td>\n",
       "    </tr>\n",
       "    <tr>\n",
       "      <th>4</th>\n",
       "      <td>3408.592036</td>\n",
       "      <td>7</td>\n",
       "      <td>0</td>\n",
       "      <td>43</td>\n",
       "      <td>29</td>\n",
       "      <td>77</td>\n",
       "      <td>33</td>\n",
       "      <td>0</td>\n",
       "      <td>9.125170</td>\n",
       "      <td>120</td>\n",
       "      <td>182</td>\n",
       "      <td>62</td>\n",
       "    </tr>\n",
       "  </tbody>\n",
       "</table>\n",
       "</div>"
      ],
      "text/plain": [
       "       DiMeter  TAZ  dist_id  f_nonsaudi  f_saudi  m_nonsaudi  m_saudi  \\\n",
       "0  1836.821151  700      NaN          25       69          29       69   \n",
       "1  1661.455853  631        0           7        8          10        8   \n",
       "2  3104.840282    4      NaN         106     1160        2427     1696   \n",
       "3  2277.530553  634      151        1127     1379        1377     1762   \n",
       "4  3408.592036    7        0          43       29          77       33   \n",
       "\n",
       "   size_group     sq_km  tt_nonsaud  tt_pop  tt_saudi  \n",
       "0         NaN  2.649870          54     192       138  \n",
       "1           0  2.168046          17      33        16  \n",
       "2         NaN  7.571282        2533    5389      2856  \n",
       "3         NaN  4.073984        2504    5645      3141  \n",
       "4           0  9.125170         120     182        62  "
      ]
     },
     "execution_count": 10,
     "metadata": {},
     "output_type": "execute_result"
    }
   ],
   "source": [
    "df.head()"
   ]
  },
  {
   "cell_type": "code",
   "execution_count": 12,
   "metadata": {
    "collapsed": false
   },
   "outputs": [
    {
     "data": {
      "text/plain": [
       "DiMeter       1736424.940217\n",
       "TAZ           1113778.000000\n",
       "dist_id        134366.000000\n",
       "f_nonsaudi     901690.000000\n",
       "f_saudi       1652192.000000\n",
       "m_nonsaudi    1346882.000000\n",
       "m_saudi       1865342.000000\n",
       "size_group         30.000000\n",
       "sq_km            5915.050312\n",
       "tt_nonsaud    2248572.000000\n",
       "tt_pop        5766107.000000\n",
       "tt_saudi      3517534.000000\n",
       "dtype: float64"
      ]
     },
     "execution_count": 12,
     "metadata": {},
     "output_type": "execute_result"
    }
   ],
   "source": [
    "df.sum()"
   ]
  },
  {
   "cell_type": "code",
   "execution_count": null,
   "metadata": {
    "collapsed": true
   },
   "outputs": [],
   "source": []
  }
 ],
 "metadata": {
  "kernelspec": {
   "display_name": "Python 2",
   "language": "python",
   "name": "python2"
  },
  "language_info": {
   "codemirror_mode": {
    "name": "ipython",
    "version": 2
   },
   "file_extension": ".py",
   "mimetype": "text/x-python",
   "name": "python",
   "nbconvert_exporter": "python",
   "pygments_lexer": "ipython2",
   "version": "2.7.5+"
  }
 },
 "nbformat": 4,
 "nbformat_minor": 0
}
